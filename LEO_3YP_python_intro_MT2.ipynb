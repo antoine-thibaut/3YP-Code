{
 "cells": [
  {
   "cell_type": "markdown",
   "metadata": {
    "id": "XqOQtIkIOIeg"
   },
   "source": [
    "# LEO 3YP - Intro to Python\n",
    "## 3YP MT2 - 02.11.2020\n",
    "\n",
    "<img src=\"https://cdn.dribbble.com/users/737433/screenshots/5375931/untitled_00.gif\" width=\"450\" height=\"350\" align=\"left\"/>\n",
    "\n",
    "&nbsp;\n",
    "\n",
    "<div style=\"background-color:rgba(0, 0, 0, 0); text-align:left; vertical-align: middle; padding:40px 100px 100px 500px;\">\n",
    "\n",
    "This tutorial will provide you with the most basic introduction to python for scientific computing.\n",
    "\n",
    "For this tutorial, you will require the following packages:  \n",
    "\n",
    "- Numpy\n",
    "- Pandas\n",
    "- Matplotlib\n",
    "- jupyter-notebook\n",
    "\n",
    "&nbsp;\n",
    "\n",
    "We'll work through the tutorial in jupyter-notebook. Jupyter-notebook is a web-based ide which allows you to work in documents which contain 'live code'. It's a great platform for basic code development, exploritory data analysis and hopefully...tutorials. \n",
    "\n",
    "&nbsp;\n",
    "\n",
    "</div>"
   ]
  },
  {
   "cell_type": "markdown",
   "metadata": {
    "id": "ug6tQxBjPA59"
   },
   "source": [
    "## Setup"
   ]
  },
  {
   "cell_type": "markdown",
   "metadata": {
    "id": "e2Ak_YE_RPQq"
   },
   "source": [
    "### Anaconda Navigator\n"
   ]
  },
  {
   "cell_type": "markdown",
   "metadata": {
    "id": "Mzo-XKlqge3C"
   },
   "source": [
    "Anaconda is a package manager, environment manager, and python distribution.\n",
    "\n",
    "It is free, easy to install, and platform agnostic.\n",
    "\n",
    "It was designed for scientific computing and data science.\n",
    "\n",
    "Conda is the package, environment and channel manager which anaconda is built on. Conda can be accessed directly from the command line. On Linux and MacOS, open the terminal. On windows, open Anaconda Prompt from the Start Menu.\n",
    "\n",
    "Anaconda Navigator is a desktop graphical user interface (GUI) included with the Anaconda Distribution which allows you to launch applications and easily manage conda without using the command line.\n",
    "\n",
    "<img src=\"https://miro.medium.com/max/2560/1*DKPXg47mW43hCYyRcu5TNw.jpeg\" width=\"650\" height=\"400\" align=\"center\"/>\n",
    "\n",
    "&nbsp;\n",
    "\n",
    "[Anaconda Navigator documentation](https://docs.anaconda.com/anaconda/navigator/)\n",
    "\n",
    "[Conda documentation](https://docs.conda.io/projects/conda/en/latest/)"
   ]
  },
  {
   "cell_type": "markdown",
   "metadata": {
    "id": "43rsaCzrU02S"
   },
   "source": [
    "### Environments"
   ]
  },
  {
   "cell_type": "markdown",
   "metadata": {
    "id": "PUf7SVKZgkqE"
   },
   "source": [
    "A [conda environment](https://docs.conda.io/projects/conda/en/latest/user-guide/getting-started.html#managing-environments) is an isolated directory that contains a specific collection of conda packages (python libraries). \n",
    "\n",
    "Environments allow you to have different versions of libraries (inc. python versions e.g. python 2.7 or python 3.7). This can be important if code requires specific legacy versions of libraries. \n",
    "\n",
    "Changes made wihin an environment do not affect other environments. Using environments is a good way to protect working directories if testing something new. Particularly the base (root) directory.\n",
    "\n",
    "You can also send environments to others, and recover previous versions. \n",
    "\n",
    "&nbsp;\n",
    "\n",
    "<img src=\"https://bitbucket.org/scotwheeler/oxemf_3yp/raw/79b4ff356fc7b196aacdfae5f80ee492318aac19/imgs/anaconda_env.png\" height=\"250\" align=\"right\"/>\n",
    "\n",
    "Let's create a new environment for 3YP:\n",
    "\n",
    "**In Anaconda Navigator:**\n",
    "\n",
    "1.   Click the 'Environments' tab \n",
    "2.   Click 'Create'\n",
    "3.   Enter a name (e.g. LEO3YP2020)\n",
    "4.   Select the python version (recommend 3.7)\n",
    "5.   Create\n",
    "\n",
    "&nbsp;\n",
    "\n",
    "**Command line:**\n",
    "\n",
    "On Linux and MacOS, open the terminal. On windows, open Anaconda Prompt from the Start Menu.\n",
    "\n",
    "```\n",
    "conda create --name LEO3YP2020 python=3.7\n",
    "```\n",
    "\n"
   ]
  },
  {
   "cell_type": "markdown",
   "metadata": {
    "id": "w28ETXJsVCRB"
   },
   "source": [
    "### Modules, Packages and Libraries"
   ]
  },
  {
   "cell_type": "markdown",
   "metadata": {
    "id": "FaSwIWfrPWDS"
   },
   "source": [
    "Python's way of being 'lazy but smart'\n",
    "\n",
    "**Module** is a file which contains various Python functions and global variables. It is simply just .py extension file which has python executable code.\n",
    "\n",
    "**Package** is a simple directory structure having a collection of modules. It must contains an \\__init__\\.py file as a flag so that the python interpreter processes it as such.\n",
    "\n",
    "**Library** is a collection of packages or code for distribution which provides the functionality to perform many (often related) tasks without writing your own code."
   ]
  },
  {
   "cell_type": "markdown",
   "metadata": {
    "id": "xurmlssCE4Ea"
   },
   "source": [
    "Let's install some common libraries in our new environment.\n",
    "\n",
    "<img src=\"https://bitbucket.org/scotwheeler/oxemf_3yp/raw/79b4ff356fc7b196aacdfae5f80ee492318aac19/imgs/navigator_lib_install.png\" height=\"250\" align=\"right\"/>\n",
    "\n",
    "**In Navigator:**\n",
    "\n",
    "1.   Click the 'Environments' tab \n",
    "2.   Select your new environment\n",
    "3.   Select the 'Not installed' drop down option\n",
    "4.   Search for a library (e.g. numpy)\n",
    "5.   Select the tickbox\n",
    "6.   Click apply\n",
    "\n",
    "&nbsp;\n",
    "\n",
    "\n",
    "\n",
    "**Command line:**\n",
    "\n",
    "1.   Swtich to your new environment\n",
    "```\n",
    "$ conda activate LEO3YP2020\n",
    "```\n",
    "\n",
    "2. Install as many libraries as possible at once, this helps to avoid incorrect dependencies.\n",
    "```\n",
    "$ conda install numpy scipy matplotlib spyder jupyter pandas\n",
    "```\n",
    "\n",
    "You'll notice in both cases, more than just those 6 libraries will be installed, this is because each library was built upon and depends upon other libraries.\n"
   ]
  },
  {
   "cell_type": "markdown",
   "metadata": {
    "id": "28vd1xKxVPwY"
   },
   "source": [
    "### Basic scientific libraries"
   ]
  },
  {
   "cell_type": "markdown",
   "metadata": {
    "id": "owluIlHrHT-Z"
   },
   "source": [
    "So what did we just install:\n",
    "\n",
    "The NumPy or SciPy Stack:\n",
    "- **NumPy**: numerical computing in python on large, multi-dimentional arrays and matrices. Functionality comparable to MATLAB.\n",
    "- **pandas**: data manipulation and analysis\n",
    "- **Matplotlib**: visulization toolkit. Pyplot is a matplotlib module which provides a MATLAB-like interface.\n",
    "- **SciPy**: scientific computing and technical computing. Contains modules for optimization, linear algrbra, signal processing etc. \n",
    "\n",
    "IDEs:\n",
    "- **jupyter**: an interactive web based computational notebook. Provides environment for live code, graphical outputs, and narrative text. Great for code development and exploritory data analysis.\n",
    "- **spyder**: a python IDE with advanced script editing, interactive output and testing, and debugging."
   ]
  },
  {
   "cell_type": "markdown",
   "metadata": {
    "id": "jB1E3GmdVVAj"
   },
   "source": [
    "### Let's get coding"
   ]
  },
  {
   "cell_type": "markdown",
   "metadata": {
    "id": "WYvhZkTQRTLt"
   },
   "source": [
    "To launch jupyter-notebook:\n",
    "\n",
    "In Navigator:\n",
    "1.   Select the Home tab\n",
    "2.   Select the correct environment from the dropdown list\n",
    "3.   Click 'Launch' on the Jupyter Notebook app\n",
    "\n",
    "Command line:\n",
    "1.   Activate the correct environment\n",
    "```\n",
    "$ conda activate LEO3YP2020\n",
    "```\n",
    "2.   Launch jupyter-notebook\n",
    "```\n",
    "$ jupyter-notebook\n",
    "```"
   ]
  },
  {
   "cell_type": "markdown",
   "metadata": {
    "id": "ydAQK0tCZMp1"
   },
   "source": [
    "### A note on style...\n",
    "\n",
    "Try to follow the accepted standard for python code style. This is documented in [PEP 8](https://www.python.org/dev/peps/pep-0008/).\n",
    "\n",
    "Docstrings and comments are particularly important for collaborating on code. It ensures others know what your code does, and why you needed to do it in that way. It will also form the basis of any documentation. Start this from day 1."
   ]
  },
  {
   "cell_type": "markdown",
   "metadata": {
    "id": "1z1JgtZ2Xjop"
   },
   "source": [
    "[The Zen of Python](https://www.python.org/dev/peps/pep-0020/)\n",
    "\n",
    "```\n",
    "Beautiful is better than ugly.\n",
    "Explicit is better than implicit.\n",
    "Simple is better than complex.\n",
    "Complex is better than complicated.\n",
    "Flat is better than nested.\n",
    "Sparse is better than dense.\n",
    "Readability counts.\n",
    "Special cases aren't special enough to break the rules.\n",
    "Although practicality beats purity.\n",
    "Errors should never pass silently.\n",
    "Unless explicitly silenced.\n",
    "In the face of ambiguity, refuse the temptation to guess.\n",
    "There should be one-- and preferably only one --obvious way to do it.\n",
    "Although that way may not be obvious at first unless you're Dutch.\n",
    "Now is better than never.\n",
    "Although never is often better than *right* now.\n",
    "If the implementation is hard to explain, it's a bad idea.\n",
    "If the implementation is easy to explain, it may be a good idea.\n",
    "Namespaces are one honking great idea -- let's do more of those!\n",
    "```\n"
   ]
  },
  {
   "cell_type": "markdown",
   "metadata": {
    "id": "_vm-_f87VGTt"
   },
   "source": [
    "## Getting started with NumPy and Pandas\n"
   ]
  },
  {
   "cell_type": "markdown",
   "metadata": {
    "id": "VzzOpXllWRcn"
   },
   "source": [
    "\n",
    "\n",
    "<img src=\"https://i.stack.imgur.com/aClG1.gif\" width=\"650\" height=\"450\" align=\"center\"/>\n",
    "\n",
    "&nbsp;\n",
    "\n",
    "<div style=\"background-color:rgba(0, 0, 0, 0); text-align:left; vertical-align: middle; padding:40px 100px 100px 500px;\">\n",
    "We are now getting deep into the intermediary steps of Python on day one! Do NOT get frustrated and know that even though you are diving in at the deep end, you have many weeks to hone in on what you have been taught today.\n",
    "</div>\n"
   ]
  },
  {
   "cell_type": "markdown",
   "metadata": {
    "id": "g1DDF6riWxGK"
   },
   "source": [
    "### First let's import the needed libraries"
   ]
  },
  {
   "cell_type": "code",
   "execution_count": 1,
   "metadata": {
    "id": "CNLxs5mfVO1-"
   },
   "outputs": [],
   "source": [
    "import numpy as np\n",
    "from matplotlib import pyplot as plt\n",
    "import pandas as pd"
   ]
  },
  {
   "cell_type": "markdown",
   "metadata": {
    "id": "gzIDYhFTW3ql"
   },
   "source": [
    "&nbsp;\n",
    "\n",
    "## Basic Numpy tools\n",
    "\n",
    "&nbsp;\n",
    "\n",
    "<img src=\"https://matteding.github.io/images/broadcasting-3d-scalar.gif\" width=\"600\" height=\"400\" align=\"center\"/>\n",
    "\n",
    "&nbsp;\n",
    "\n",
    "<div style=\"background-color:rgba(0, 0, 0, 0); text-align:left; vertical-align: middle; padding:50px 100px 100px 500px;\">\n",
    "Here, we will exam some fairly simple tools in Numpy for the management of data and doing basic statistics.\n",
    "</div>\n"
   ]
  },
  {
   "cell_type": "markdown",
   "metadata": {
    "id": "yuD2iuU0XOhI"
   },
   "source": [
    "&nbsp;\n",
    "### In the cells below we will learn basic array creation and indexing\n"
   ]
  },
  {
   "cell_type": "code",
   "execution_count": null,
   "metadata": {
    "colab": {
     "base_uri": "https://localhost:8080/"
    },
    "id": "tMT6PsukXQZr",
    "outputId": "366d2da4-00ac-42ea-b31a-3a2a75ec2647"
   },
   "outputs": [],
   "source": [
    "\n",
    "a = np.array([1, 2, 3])            # Create a simple array\n",
    "print(\"Numpy Array 'a':\\n\")\n",
    "print(type(a))                     # Prints type as recognized by Python\n",
    "print(a.shape)                     # Prints its shape\n",
    "print(a[0], a[1], a[2])            # Prints certain indexed values\n",
    "a[0] = 5                           # Change an element of the array\n",
    "print(a,\"\\n\")                   \n",
    "\n",
    "\n",
    "print(\"Numpy Array 'b':\\n\")\n",
    "b = np.array([[1,2,3],[4,5,6]])    # Create an array with more 'complexity'\n",
    "print(b.shape)\n",
    "print(b)                     \n",
    "print(b[0, 0], b[0, 1], b[1, 0])   \n"
   ]
  },
  {
   "cell_type": "markdown",
   "metadata": {
    "id": "QPtZf7a5XcTH"
   },
   "source": [
    "#### Some basic maths\n"
   ]
  },
  {
   "cell_type": "code",
   "execution_count": null,
   "metadata": {
    "colab": {
     "base_uri": "https://localhost:8080/"
    },
    "id": "3PcWq3N4XgmF",
    "outputId": "7ddc5fee-bbe2-4dd4-c5d8-bd86eaf3763a"
   },
   "outputs": [],
   "source": [
    "x = np.array([[1,2],[3,4]])\n",
    "y = np.array([[5,6],[7,8]])\n",
    "\n",
    "print(x + y,'\\n')\n",
    "print(x * y,'\\n')\n",
    "print(np.sqrt(x),'\\n')"
   ]
  },
  {
   "cell_type": "markdown",
   "metadata": {
    "id": "GiG7GV6sXo1m"
   },
   "source": [
    "&nbsp;\n",
    "\n",
    "## Let's work with Pandas Dataframes\n",
    "\n",
    "&nbsp;\n",
    "\n",
    "<div style=\"background-color:rgba(0, 0, 0, 0); text-align:left; vertical-align: middle; padding:70px 100px 100px 500px;\">\n",
    "The first step will involve you creating a hypothetical dataframe and then you will move on to importing energy data with Pandas to perform basic descriptive statistics.\n",
    "</div>\n"
   ]
  },
  {
   "cell_type": "code",
   "execution_count": null,
   "metadata": {
    "colab": {
     "base_uri": "https://localhost:8080/",
     "height": 296
    },
    "id": "K2kpRwOoYmAW",
    "outputId": "ce92e298-cd46-4d64-ae9b-a57cbb77fb84"
   },
   "outputs": [],
   "source": [
    "# Any guess what this is for?\n",
    "%matplotlib inline \n",
    "\n",
    "# Use NumPy to create a random array of wind farm data for three 10 MW wind farms\n",
    "# What is happening here?\n",
    "wf_data = np.random.rand(24,3)*10\n",
    "\n",
    "# Use Pandas to create a dataframe to store the data, naming the columns\n",
    "wf_df = pd.DataFrame(wf_data, columns=['WF_1','WF_2','WF_3'])\n",
    "wf_df.index.name = 'HH'\n",
    "wf_df.head()\n",
    "\n",
    "# And with one line, you can have a basic plot in Pandas\n",
    "wf_df.plot()"
   ]
  },
  {
   "cell_type": "markdown",
   "metadata": {
    "id": "sRGHZzICZOMj"
   },
   "source": [
    "### But this graph is not complete. What can be fixed?"
   ]
  },
  {
   "cell_type": "markdown",
   "metadata": {
    "id": "7lwWwZ2_ZdjA"
   },
   "source": [
    "## Let's go a bit further with our plotting and data now"
   ]
  },
  {
   "cell_type": "markdown",
   "metadata": {
    "id": "cNXOZv6nZpjn"
   },
   "source": [
    "### There are a few ways of importing data into Python and Pandas makes it very convenient.  \n",
    "  \n",
    "Have a look at the code below to see two examples  \n",
    "  \n",
    "`import pandas as pd\n",
    "df = pd.read_csv('filename.txt', sep=\" \", header=None, names=[\"a\",\"b\",\"c\"])`\n",
    "  \n",
    "Or  \n",
    "  \n",
    "`import pandas as pd \n",
    "df = pd.read_csv('file_location\\filename.txt', delimiter = \"\\t\")  # Can input a URL as well`\n",
    "\n"
   ]
  },
  {
   "cell_type": "markdown",
   "metadata": {
    "id": "bQQ--pScZ9Nu"
   },
   "source": [
    "#### Let's go ahead and import some data\n",
    "\n",
    "The code below will use a URL to import data on the power plants of the USA, using the simpliest form of input arguements to the Pandas `read_csv` function. Note how we imported Numpy as `np` and not Pandas as `pd`. Dataframes are conventionally called `df` in Python but you can rename to another logical variable name. \n"
   ]
  },
  {
   "cell_type": "code",
   "execution_count": null,
   "metadata": {
    "id": "YYYagm-0aCqM"
   },
   "outputs": [],
   "source": [
    "# The following implies an internet connection of course\n",
    "\n",
    "df = pd.read_csv('https://raw.githubusercontent.com/wri/global-power-plant-database/master/source_databases_csv/database_USA.csv')"
   ]
  },
  {
   "cell_type": "markdown",
   "metadata": {
    "id": "A0_lUvY6aKkP"
   },
   "source": [
    "#### Let's have a look at the data\n",
    "\n",
    "The `head` function is an easy way to inspect your dataset. The default number of rows to show is 5. Let's explore the dataset a bit. Use `df.head(20)` to see more rows etc. \n",
    "  \n",
    "  "
   ]
  },
  {
   "cell_type": "code",
   "execution_count": null,
   "metadata": {
    "colab": {
     "base_uri": "https://localhost:8080/",
     "height": 411
    },
    "id": "-unNu6iRaRKF",
    "outputId": "ce6a5cc3-6205-4f62-a8db-9a3ea9645f35"
   },
   "outputs": [],
   "source": [
    "df.head()"
   ]
  },
  {
   "cell_type": "markdown",
   "metadata": {
    "id": "TfEZyhTwaWbf"
   },
   "source": [
    "&nbsp;\n",
    "\n",
    "### Indexing with Pandas\n",
    "\n",
    "&nbsp;\n",
    "\n",
    "<img src=\"https://i.ibb.co/Tq7xxzx/Python-Indexing.png\" width=\"525\" height=\"400\" align=\"center\"/>\n",
    "\n",
    "&nbsp;\n",
    "\n",
    "<div style=\"background-color:rgba(0, 0, 0, 0); text-align:left; vertical-align: middle; padding:50px 100px 100px 500px;\">\n",
    "Have a look at this example of how to pull data from a dataframe. The full article can be found <a href=\"https://chrisalbon.com/python/data_wrangling/pandas_selecting_rows_on_conditions/\">here</a>\n",
    "</div>\n"
   ]
  },
  {
   "cell_type": "markdown",
   "metadata": {
    "id": "MC1Qo7A8bCu3"
   },
   "source": [
    "Your turn. Let's pull some data from the `df` that we have loaded based on some of the information given to you through the graphic above. *Hint: It is best to only use the data that you need.\n",
    "&nbsp;\n",
    "\n",
    "**Use the cells below to print the following values:**\n",
    "\n",
    "1. The total number of power plants in the US.\n",
    "2. The minimum, maximum and average capacity of the plants in MW.\n",
    "3. The number of listed solar farms.\n",
    "4. The number of different plant types listed.\n",
    "5. The year with the highest generation from all of the plants.\n",
    "\n",
    "\n",
    "We won't be giving answers to these!*\n"
   ]
  },
  {
   "cell_type": "code",
   "execution_count": null,
   "metadata": {
    "id": "BVC3j8S7bj-z"
   },
   "outputs": [],
   "source": [
    "# The total number of power plants in the US."
   ]
  },
  {
   "cell_type": "code",
   "execution_count": null,
   "metadata": {
    "id": "w-mruVdYbkhr"
   },
   "outputs": [],
   "source": [
    "# The minimum, maximum and average capacity of the plants in MW."
   ]
  },
  {
   "cell_type": "code",
   "execution_count": null,
   "metadata": {
    "id": "jRjkjPjhbnPw"
   },
   "outputs": [],
   "source": [
    "# The number of listed solar farms."
   ]
  },
  {
   "cell_type": "code",
   "execution_count": null,
   "metadata": {
    "id": "kjsLtqdYbpGS"
   },
   "outputs": [],
   "source": [
    "# The number of different plant types listed."
   ]
  },
  {
   "cell_type": "code",
   "execution_count": null,
   "metadata": {
    "id": "YtMaJp8Ibqy9"
   },
   "outputs": [],
   "source": [
    "# The year with the highest generation from all of the plants."
   ]
  },
  {
   "cell_type": "markdown",
   "metadata": {
    "id": "_7V311K0WI71"
   },
   "source": [
    "## Homework"
   ]
  },
  {
   "cell_type": "markdown",
   "metadata": {
    "id": "FvLt2C0XKpas"
   },
   "source": [
    "Using the data available [here](https://bitbucket.org/scotwheeler/leo_3yp_2020/raw/1977824169f7551bccaf3bd1d7f734728e1a69e3/data/example_PV_data.csv), plot the following?\n",
    "\n",
    "- daily energy over the period of a year\n",
    "- daily maximum half-hourly power over June and December\n",
    "- average half-hourly profile for an August day with interquartile range\n",
    "\n",
    "Don't forget a legend, axis labels, units and any conversions.\n",
    "\n",
    "- What is the total solar energy generated over the year?\n",
    "- Is there any missing data? How might you deal with this?\n",
    "- Estimate the capacity of the installation if it is in Oxford (hint: what is the capacity factor for PV in the UK)."
   ]
  },
  {
   "cell_type": "code",
   "execution_count": 2,
   "metadata": {
    "colab": {
     "base_uri": "https://localhost:8080/",
     "height": 235
    },
    "id": "6SOLcHJFljM6",
    "outputId": "548eee03-a18e-4a10-8e0d-06d9d6219390"
   },
   "outputs": [
    {
     "data": {
      "text/html": [
       "<div>\n",
       "<style scoped>\n",
       "    .dataframe tbody tr th:only-of-type {\n",
       "        vertical-align: middle;\n",
       "    }\n",
       "\n",
       "    .dataframe tbody tr th {\n",
       "        vertical-align: top;\n",
       "    }\n",
       "\n",
       "    .dataframe thead th {\n",
       "        text-align: right;\n",
       "    }\n",
       "</style>\n",
       "<table border=\"1\" class=\"dataframe\">\n",
       "  <thead>\n",
       "    <tr style=\"text-align: right;\">\n",
       "      <th></th>\n",
       "      <th>Energy (kWh)</th>\n",
       "    </tr>\n",
       "    <tr>\n",
       "      <th>Datetime</th>\n",
       "      <th></th>\n",
       "    </tr>\n",
       "  </thead>\n",
       "  <tbody>\n",
       "    <tr>\n",
       "      <th>2019-01-01 00:30:00</th>\n",
       "      <td>0.0</td>\n",
       "    </tr>\n",
       "    <tr>\n",
       "      <th>2019-01-01 01:00:00</th>\n",
       "      <td>0.0</td>\n",
       "    </tr>\n",
       "    <tr>\n",
       "      <th>2019-01-01 01:30:00</th>\n",
       "      <td>0.0</td>\n",
       "    </tr>\n",
       "    <tr>\n",
       "      <th>2019-01-01 02:00:00</th>\n",
       "      <td>0.0</td>\n",
       "    </tr>\n",
       "    <tr>\n",
       "      <th>2019-01-01 02:30:00</th>\n",
       "      <td>0.0</td>\n",
       "    </tr>\n",
       "  </tbody>\n",
       "</table>\n",
       "</div>"
      ],
      "text/plain": [
       "                     Energy (kWh)\n",
       "Datetime                         \n",
       "2019-01-01 00:30:00           0.0\n",
       "2019-01-01 01:00:00           0.0\n",
       "2019-01-01 01:30:00           0.0\n",
       "2019-01-01 02:00:00           0.0\n",
       "2019-01-01 02:30:00           0.0"
      ]
     },
     "execution_count": 2,
     "metadata": {},
     "output_type": "execute_result"
    }
   ],
   "source": [
    "# a starting point...\n",
    "import pandas as pd\n",
    "df = pd.read_csv(\"https://bitbucket.org/scotwheeler/oxemf_3yp/raw/79b4ff356fc7b196aacdfae5f80ee492318aac19/data/example_PV_data.csv\",\n",
    "                 index_col=0, parse_dates=True, dayfirst=True)\n",
    "df.head()"
   ]
  },
  {
   "cell_type": "markdown",
   "metadata": {
    "id": "KwRRt3UvXDha"
   },
   "source": [
    "  \n",
    "## Picture References\n",
    "\n",
    "*Datafram GIF: <a href=\"https://i.stack.imgur.com/aClG1.gif\">Stack Exchange</a>   \n",
    "Numpy GIF: <a href=\"https://matteding.github.io/images/broadcasting-3d-scalar.gif\">Matt Eding</a>  \n",
    "Final Challenge: <a href=\"https://dribbble.com/antoshenbka\">Anton</a>   \n",
    "Reach the finish line: <a href=\"https://i.pinimg.com/originals/5f/f8/8f/5ff88fa577c8b0fa614f2fa3747acf25.gif\">Lidia R</a>*\n"
   ]
  },
  {
   "cell_type": "code",
   "execution_count": 2,
   "metadata": {
    "id": "cWuClRaAWQxY"
   },
   "outputs": [
    {
     "data": {
      "text/plain": [
       "Text(0, 0.5, 'Energy (kWh)')"
      ]
     },
     "execution_count": 2,
     "metadata": {},
     "output_type": "execute_result"
    },
    {
     "data": {
      "image/png": "[encoded data removed]",
      "text/plain": [
       "<Figure size 432x288 with 1 Axes>"
      ]
     },
     "metadata": {
      "needs_background": "light"
     },
     "output_type": "display_data"
    }
   ],
   "source": [
    "# Daily energy over the period of a year:\n",
    "\n",
    "import pandas as pd\n",
    "import matplotlib.pyplot as plt\n",
    "import numpy as np\n",
    "df = pd.read_csv(\"https://bitbucket.org/scotwheeler/leo_3yp_2020/raw/1977824169f7551bccaf3bd1d7f734728e1a69e3/data/example_PV_data.csv\",\n",
    "                 index_col=0, parse_dates=True, dayfirst=True)\n",
    "df.head()\n",
    "\n",
    "# For each day there are 48 data points. We want to seperate each day with its \n",
    "# corresponding energy\n",
    "\n",
    "Energy_days = []            # Structure containing energies of each day\n",
    "i = 0                       # Counter for every day\n",
    "while i < len(df)/48:    # For every day\n",
    "    Total_day_energy = 0    # Initialising total energy\n",
    "    k = 0\n",
    "    while k < 48:        # For every data point within the day\n",
    "        Total_day_energy = Total_day_energy + df.iloc[i*48+k][0]\n",
    "        k = k + 1\n",
    "    Energy_days.append(Total_day_energy)\n",
    "    i = i + 1              # Moving on to next day\n",
    "\n",
    "days = np.linspace(1,365,365)\n",
    "\n",
    "# Plotting:\n",
    "y_pos = np.arange(len(days))\n",
    "\n",
    "# Create bars and choose color\n",
    "plt.bar(y_pos, Energy_days, color = (0.5,0.1,0.5,0.6))\n",
    "\n",
    "plt.title('Daily energy')\n",
    "plt.xlabel('Day number')\n",
    "plt.ylabel('Energy (kWh)')"
   ]
  },
  {
   "cell_type": "code",
   "execution_count": null,
   "metadata": {},
   "outputs": [],
   "source": [
    "# Daily maximum half-hourly power over June and December"
   ]
  }
 ],
 "metadata": {
  "colab": {
   "name": "LEO_3YP_python_intro_MT2.ipynb",
   "provenance": [],
   "toc_visible": true
  },
  "kernelspec": {
   "display_name": "Python 3",
   "language": "python",
   "name": "python3"
  },
  "language_info": {
   "codemirror_mode": {
    "name": "ipython",
    "version": 3
   },
   "file_extension": ".py",
   "mimetype": "text/x-python",
   "name": "python",
   "nbconvert_exporter": "python",
   "pygments_lexer": "ipython3",
   "version": "3.8.5"
  }
 },
 "nbformat": 4,
 "nbformat_minor": 1
}
